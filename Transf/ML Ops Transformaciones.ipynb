{
 "cells": [
  {
   "attachments": {},
   "cell_type": "markdown",
   "metadata": {},
   "source": [
    "- - -\n",
    "\n",
    "### `Transformaciones`\n",
    "\n",
    "Transformación de datos de los archivos de puntuaciones y plataformas como preparación y generación de los archivos necesarios como fuente para las operaciones de la API. "
   ]
  },
  {
   "cell_type": "code",
   "execution_count": 66,
   "metadata": {},
   "outputs": [],
   "source": [
    "import os\n",
    "from datetime import datetime\n",
    "from statistics import mode\n",
    "import numpy as np\n",
    "import pandas as pd"
   ]
  },
  {
   "attachments": {},
   "cell_type": "markdown",
   "metadata": {},
   "source": [
    "Función generadora de un archivo `csv` integrando los que encuentra en una ruta determinada."
   ]
  },
  {
   "cell_type": "code",
   "execution_count": 67,
   "metadata": {},
   "outputs": [],
   "source": [
    "def join_csv(path_in=None, path_out=None, out_file=None):\n",
    "    \"\"\"\n",
    "    Combina los archivos CSV existentes en una carpeta y devuelve un DataFrame.\n",
    "    \n",
    "    Parameters\n",
    "    ----------\n",
    "    path : string\n",
    "        Ruta en la que se encuentran los archivos, si no se indica ninguna se\n",
    "        usará la carpeta actual.\n",
    "    out_file : string\n",
    "        Archivo opcional en el que se guardará los resultados, en caso de que no\n",
    "        se indique un nombre no se generará.\n",
    "    \n",
    "    Returns\n",
    "    -------\n",
    "    DataFrame\n",
    "        Objeto DataFrame con la unión de los archivos CSV\n",
    "    int\n",
    "        Número de renglones del Dataframe\n",
    "    \"\"\"\n",
    "    \n",
    "    if path_in is None:\n",
    "        files = [file for file in os.listdir() if '.csv' in file]\n",
    "    else:\n",
    "        files = [os.path.join(path_in, file) for file in os.listdir(path_in) if '.csv' in file]\n",
    "        \n",
    "    df = pd.concat(map(pd.read_csv, files), ignore_index=True)\n",
    "    \n",
    "    if out_file is not None:\n",
    "        if path_out is None:\n",
    "            df.to_csv(out_file)\n",
    "        else:\n",
    "            df.to_csv(os.path.join(path_out, out_file), index=False)\n",
    "        \n",
    "    return df, len(df)"
   ]
  },
  {
   "attachments": {},
   "cell_type": "markdown",
   "metadata": {},
   "source": [
    "Genera un solo archivo de `ratings` y lo ajusta para integrarlo con el de `plataformas-titulos`"
   ]
  },
  {
   "cell_type": "code",
   "execution_count": 68,
   "metadata": {},
   "outputs": [],
   "source": [
    "df_ratings, df_ratings_len = join_csv(path_in=r'D:\\Henry\\Repo\\PP\\datasets\\ratings',\n",
    "                                      path_out=r'D:\\Henry\\Repo\\PP\\datasets\\ratings\\join', \n",
    "                                      out_file='ratings.csv')"
   ]
  },
  {
   "cell_type": "code",
   "execution_count": 69,
   "metadata": {},
   "outputs": [],
   "source": [
    "#df_ratings.drop(columns='Unnamed: 0', inplace=True)\n",
    "df_ratings.rename({'rating' : 'score' , 'movieId' : 'id'}, axis= 1, inplace=True)\n",
    "df_ratings['id'] = df_ratings['id'].astype('string')\n",
    "\n",
    "df_ratings['score_date'] = pd.to_datetime(df_ratings['timestamp'], unit='s')\n",
    "df_ratings['score_date'] = df_ratings['score_date'].astype('string')\n",
    "df_ratings['score_date'] = df_ratings['score_date'].str.slice(stop=10)\n",
    "\n",
    "df_ratings = pd.DataFrame.reindex(df_ratings, columns = ['id', 'userId', 'score', 'score_date'])\n",
    "\n",
    "df_ratings.to_csv(r'D:\\Henry\\Repo\\PP\\datasets\\ratings\\join\\ratings_fixed.csv', index=False)"
   ]
  },
  {
   "cell_type": "code",
   "execution_count": 70,
   "metadata": {},
   "outputs": [
    {
     "name": "stdout",
     "output_type": "stream",
     "text": [
      "<class 'pandas.core.frame.DataFrame'>\n",
      "RangeIndex: 11024289 entries, 0 to 11024288\n",
      "Data columns (total 4 columns):\n",
      " #   Column      Dtype  \n",
      "---  ------      -----  \n",
      " 0   id          string \n",
      " 1   userId      int64  \n",
      " 2   score       float64\n",
      " 3   score_date  string \n",
      "dtypes: float64(1), int64(1), string(2)\n",
      "memory usage: 336.4 MB\n"
     ]
    }
   ],
   "source": [
    "df_ratings.info()"
   ]
  },
  {
   "cell_type": "code",
   "execution_count": 71,
   "metadata": {},
   "outputs": [
    {
     "data": {
      "text/html": [
       "<div>\n",
       "<style scoped>\n",
       "    .dataframe tbody tr th:only-of-type {\n",
       "        vertical-align: middle;\n",
       "    }\n",
       "\n",
       "    .dataframe tbody tr th {\n",
       "        vertical-align: top;\n",
       "    }\n",
       "\n",
       "    .dataframe thead th {\n",
       "        text-align: right;\n",
       "    }\n",
       "</style>\n",
       "<table border=\"1\" class=\"dataframe\">\n",
       "  <thead>\n",
       "    <tr style=\"text-align: right;\">\n",
       "      <th></th>\n",
       "      <th>id</th>\n",
       "      <th>userId</th>\n",
       "      <th>score</th>\n",
       "      <th>score_date</th>\n",
       "    </tr>\n",
       "  </thead>\n",
       "  <tbody>\n",
       "    <tr>\n",
       "      <th>0</th>\n",
       "      <td>as680</td>\n",
       "      <td>1</td>\n",
       "      <td>1.0</td>\n",
       "      <td>2015-03-09</td>\n",
       "    </tr>\n",
       "    <tr>\n",
       "      <th>1</th>\n",
       "      <td>ns2186</td>\n",
       "      <td>1</td>\n",
       "      <td>4.5</td>\n",
       "      <td>2015-03-09</td>\n",
       "    </tr>\n",
       "    <tr>\n",
       "      <th>2</th>\n",
       "      <td>hs2381</td>\n",
       "      <td>1</td>\n",
       "      <td>5.0</td>\n",
       "      <td>2015-03-09</td>\n",
       "    </tr>\n",
       "    <tr>\n",
       "      <th>3</th>\n",
       "      <td>ns3663</td>\n",
       "      <td>1</td>\n",
       "      <td>5.0</td>\n",
       "      <td>2015-03-09</td>\n",
       "    </tr>\n",
       "    <tr>\n",
       "      <th>4</th>\n",
       "      <td>as9500</td>\n",
       "      <td>1</td>\n",
       "      <td>5.0</td>\n",
       "      <td>2015-03-09</td>\n",
       "    </tr>\n",
       "  </tbody>\n",
       "</table>\n",
       "</div>"
      ],
      "text/plain": [
       "       id  userId  score  score_date\n",
       "0   as680       1    1.0  2015-03-09\n",
       "1  ns2186       1    4.5  2015-03-09\n",
       "2  hs2381       1    5.0  2015-03-09\n",
       "3  ns3663       1    5.0  2015-03-09\n",
       "4  as9500       1    5.0  2015-03-09"
      ]
     },
     "execution_count": 71,
     "metadata": {},
     "output_type": "execute_result"
    }
   ],
   "source": [
    "df_ratings.head()"
   ]
  },
  {
   "attachments": {},
   "cell_type": "markdown",
   "metadata": {},
   "source": [
    "Función de transformación de un archivo `plataforma-titulos` para uso posterior."
   ]
  },
  {
   "cell_type": "code",
   "execution_count": 72,
   "metadata": {},
   "outputs": [],
   "source": [
    "def fix_platform_file(in_file, platform, out_file):\n",
    "    \"\"\"\n",
    "    Ajusta la información del archivo de titulos y genera uno de salida.\n",
    "    \n",
    "    Parameters\n",
    "    ----------\n",
    "    in_file : string\n",
    "        Archivo de entrada de titulos incluyendo la ruta completa.\n",
    "    platform : string\n",
    "        Identificador de la plataforma\n",
    "    out_file : string\n",
    "        Archivo de salida de titulos incluyendo la ruta completa.\n",
    "    \n",
    "    Returns\n",
    "    -------\n",
    "    DataFrame\n",
    "        Objeto DataFrame con la estructura preparada para mezclar con \n",
    "        el archivo de ratings.\n",
    "    \"\"\"\n",
    "    dat_types = {'show_id' : 'string', \n",
    "                 'type' : 'string',\n",
    "                 'title' : 'string',\n",
    "                 'director' : 'string',\n",
    "                 'cast' : 'string',\n",
    "                 'country' : 'string',\n",
    "                 'date_added' : 'string',\n",
    "                 'release_year' : 'int64',\n",
    "                 'rating' : 'string',\n",
    "                 'duration' : 'string',\n",
    "                 'listed_in' : 'string',\n",
    "                 'description' : 'string'}\n",
    "    \n",
    "    df = pd.read_csv(in_file, dtype=dat_types)\n",
    "\n",
    "    \"\"\"\n",
    "    Genera el campo 'id' compuesto de la primera letra del nombre de la plataforma, seguido de la parte numérica del\n",
    "    show_id para asociarlo con el id de la información de los archivos de puntuación.\n",
    "    \"\"\"\n",
    "    df['show_id'] = df['show_id'].str.replace('s' , platform + 's')\n",
    "    df.rename({'show_id' : 'id'}, axis= 1, inplace=True)\n",
    "    \n",
    "    \"\"\"\n",
    "    Reemplaza Los valores nulos del campo rating por el string “G” (maturity rating: “general for all audiences”)\n",
    "    \"\"\"\n",
    "    df = df.fillna({'rating' : 'G'})\n",
    "\n",
    "    \"\"\"\n",
    "    Convierte el formato de fecha de la columna 'date_added' de: 'Mmmmmmm dd, AAAA' a: 'AAAA-mm-dd'\n",
    "    \"\"\"\n",
    "    df.insert(6, 'AAAAmmdd', pd.to_datetime(df['date_added'].str.strip(), format='%B %d, %Y'), allow_duplicates=False)\n",
    "    df['AAAAmmdd'] = df['AAAAmmdd'].astype('string')\n",
    "    df['AAAAmmdd'] = df['AAAAmmdd'].str.slice(stop=10)\n",
    "    df.drop(columns='date_added', inplace=True)\n",
    "    df.rename({'AAAAmmdd' : 'date_added'}, axis= 1, inplace=True)\n",
    "\n",
    "    \"\"\"\n",
    "    Genera dos columnas: duration_int y duration_type, apartir de la columna 'direction'. El primero será un integer y \n",
    "    el segundo un string indicando la unidad de medición de duración: min (minutos) o season (temporadas)'\n",
    "    \"\"\"\n",
    "    dur_split = df['duration'].str.split(expand=True)\n",
    "    dur_split.columns = ['duration_int', 'duration_type']\n",
    "    df = pd.concat([df, dur_split], axis=1)\n",
    "    df = df.fillna({'duration_int' : '0'})\n",
    "    df['duration_int'] = df['duration_int'].astype(np.int64)\n",
    "    df['duration_type'] = df['duration_type'].str.replace('season' , 'seasons')\n",
    "    df.drop(columns='duration', inplace=True)\n",
    "    df = pd.DataFrame.reindex(df, columns = ['id', 'type', 'title', 'director', 'cast', 'country', 'date_added',\n",
    "                                             'release_year', 'rating', 'duration_int', 'duration_type', \n",
    "                                             'listed_in', 'description'])\n",
    "    \n",
    "    \"\"\"\n",
    "    Reemplaza Los valores nulos de las columnas 'director', 'cast', 'country', 'date_added', 'duration_type' \n",
    "    por el string 'sin dato'\n",
    "    \"\"\"\n",
    "    #df = df.fillna({'director' : 'sin dato', 'cast' : 'sin dato', 'country' : 'sin dato',\n",
    "    #                'date_added' : 'sin dato', 'duration_type' : 'sin dato'})\n",
    "        \n",
    "    \"\"\"\n",
    "    Convierte los datos de las columnas de tipo string a minusculas  \n",
    "    \"\"\"\n",
    "    df['type'] = df['type'].str.lower()\n",
    "    df['title'] = df['title'].str.lower()\n",
    "    df['director'] = df['director'].str.lower()\n",
    "    df['cast'] = df['cast'].str.lower()\n",
    "    df['country'] = df['country'].str.lower()\n",
    "    df['rating'] = df['rating'].str.lower()\n",
    "    df['duration_type'] = df['duration_type'].str.lower()\n",
    "    df['listed_in'] = df['listed_in'].str.lower()\n",
    "    df['description'] = df['description'].str.lower()\n",
    "\n",
    "    df.to_csv(out_file, index=False)\n",
    "        \n",
    "    return df"
   ]
  },
  {
   "attachments": {},
   "cell_type": "markdown",
   "metadata": {},
   "source": [
    "Ajusta los 4 archivos `csv` de plataformas-titulos."
   ]
  },
  {
   "cell_type": "code",
   "execution_count": 74,
   "metadata": {},
   "outputs": [],
   "source": [
    "file_in = r'D:\\Henry\\Repo\\PP\\datasets\\netflix_titles.csv'\n",
    "file_out = r'D:\\Henry\\Repo\\PP\\datasets\\titles\\netflix_titles_fixed.csv'\n",
    "df_net_fix = fix_platform_file(file_in, 'n', file_out)"
   ]
  },
  {
   "cell_type": "code",
   "execution_count": 75,
   "metadata": {},
   "outputs": [],
   "source": [
    "file_in = r'D:\\Henry\\Repo\\PP\\datasets\\amazon_prime_titles.csv'\n",
    "file_out = r'D:\\Henry\\Repo\\PP\\datasets\\titles\\amazon_prime_titles_fixed.csv'\n",
    "df_ama_fix = fix_platform_file(file_in, 'a', file_out)"
   ]
  },
  {
   "cell_type": "code",
   "execution_count": 76,
   "metadata": {},
   "outputs": [],
   "source": [
    "file_in = r'D:\\Henry\\Repo\\PP\\datasets\\disney_plus_titles.csv'\n",
    "file_out = r'D:\\Henry\\Repo\\PP\\datasets\\titles\\disney_plus_titles_fixed.csv'\n",
    "df_dis_fix = fix_platform_file(file_in, 'd', file_out)"
   ]
  },
  {
   "cell_type": "code",
   "execution_count": 77,
   "metadata": {},
   "outputs": [],
   "source": [
    "file_in = r'D:\\Henry\\Repo\\PP\\datasets\\hulu_titles.csv'\n",
    "file_out = r'D:\\Henry\\Repo\\PP\\datasets\\titles\\hulu_titles_fixed.csv'\n",
    "df_hul_fix = fix_platform_file(file_in, 'h', file_out)"
   ]
  },
  {
   "attachments": {},
   "cell_type": "markdown",
   "metadata": {},
   "source": [
    "Genera un dataframe y un archivo consolidado de plataformas-titulos"
   ]
  },
  {
   "cell_type": "code",
   "execution_count": 78,
   "metadata": {},
   "outputs": [],
   "source": [
    "df_titles, df_titles_len = join_csv(path_in=r'D:\\Henry\\Repo\\PP\\datasets\\titles', \n",
    "                                    path_out=r'D:\\Henry\\Repo\\PP\\datasets\\titles\\join',\n",
    "                                    out_file='platforms_titles.csv')\n",
    "df_titles['id'] = df_titles['id'].astype('string')\n",
    "df_titles['type'] = df_titles['type'].astype('string')\n",
    "df_titles['title'] = df_titles['title'].astype('string')\n",
    "df_titles['director'] = df_titles['director'].astype('string')\n",
    "df_titles['cast'] = df_titles['cast'].astype('string')\n",
    "df_titles['country'] = df_titles['country'].astype('string')\n",
    "df_titles['date_added'] = df_titles['date_added'].astype('string')\n",
    "df_titles['rating'] = df_titles['rating'].astype('string')\n",
    "df_titles['duration_type'] = df_titles['duration_type'].astype('string')\n",
    "df_titles['listed_in'] = df_titles['listed_in'].astype('string')\n",
    "df_titles['description'] = df_titles['description'].astype('string')"
   ]
  },
  {
   "cell_type": "code",
   "execution_count": 79,
   "metadata": {},
   "outputs": [
    {
     "name": "stdout",
     "output_type": "stream",
     "text": [
      "<class 'pandas.core.frame.DataFrame'>\n",
      "RangeIndex: 22998 entries, 0 to 22997\n",
      "Data columns (total 13 columns):\n",
      " #   Column         Non-Null Count  Dtype \n",
      "---  ------         --------------  ----- \n",
      " 0   id             22998 non-null  string\n",
      " 1   type           22998 non-null  string\n",
      " 2   title          22998 non-null  string\n",
      " 3   director       14739 non-null  string\n",
      " 4   cast           17677 non-null  string\n",
      " 5   country        11499 non-null  string\n",
      " 6   date_added     13444 non-null  string\n",
      " 7   release_year   22998 non-null  int64 \n",
      " 8   rating         22998 non-null  string\n",
      " 9   duration_int   22998 non-null  int64 \n",
      " 10  duration_type  22516 non-null  string\n",
      " 11  listed_in      22998 non-null  string\n",
      " 12  description    22994 non-null  string\n",
      "dtypes: int64(2), string(11)\n",
      "memory usage: 2.3 MB\n"
     ]
    }
   ],
   "source": [
    "df_titles.info()"
   ]
  },
  {
   "attachments": {},
   "cell_type": "markdown",
   "metadata": {},
   "source": [
    "Genera un dataframe consolidando plataformas, titulos y raitings."
   ]
  },
  {
   "cell_type": "code",
   "execution_count": 81,
   "metadata": {},
   "outputs": [],
   "source": [
    "df_tit_rat_merge = pd.merge(df_titles, df_ratings, on='id')"
   ]
  },
  {
   "cell_type": "code",
   "execution_count": 83,
   "metadata": {},
   "outputs": [
    {
     "name": "stdout",
     "output_type": "stream",
     "text": [
      "<class 'pandas.core.frame.DataFrame'>\n",
      "Int64Index: 11024289 entries, 0 to 11024288\n",
      "Data columns (total 16 columns):\n",
      " #   Column         Dtype  \n",
      "---  ------         -----  \n",
      " 0   id             string \n",
      " 1   type           string \n",
      " 2   title          string \n",
      " 3   director       string \n",
      " 4   cast           string \n",
      " 5   country        string \n",
      " 6   date_added     string \n",
      " 7   release_year   int64  \n",
      " 8   rating         string \n",
      " 9   duration_int   int64  \n",
      " 10  duration_type  string \n",
      " 11  listed_in      string \n",
      " 12  description    string \n",
      " 13  userId         int64  \n",
      " 14  score          float64\n",
      " 15  score_date     string \n",
      "dtypes: float64(1), int64(3), string(12)\n",
      "memory usage: 1.4 GB\n"
     ]
    }
   ],
   "source": [
    "df_tit_rat_merge.info()"
   ]
  },
  {
   "cell_type": "code",
   "execution_count": 84,
   "metadata": {},
   "outputs": [
    {
     "data": {
      "text/html": [
       "<div>\n",
       "<style scoped>\n",
       "    .dataframe tbody tr th:only-of-type {\n",
       "        vertical-align: middle;\n",
       "    }\n",
       "\n",
       "    .dataframe tbody tr th {\n",
       "        vertical-align: top;\n",
       "    }\n",
       "\n",
       "    .dataframe thead th {\n",
       "        text-align: right;\n",
       "    }\n",
       "</style>\n",
       "<table border=\"1\" class=\"dataframe\">\n",
       "  <thead>\n",
       "    <tr style=\"text-align: right;\">\n",
       "      <th></th>\n",
       "      <th>id</th>\n",
       "      <th>type</th>\n",
       "      <th>title</th>\n",
       "      <th>director</th>\n",
       "      <th>cast</th>\n",
       "      <th>country</th>\n",
       "      <th>date_added</th>\n",
       "      <th>release_year</th>\n",
       "      <th>rating</th>\n",
       "      <th>duration_int</th>\n",
       "      <th>duration_type</th>\n",
       "      <th>listed_in</th>\n",
       "      <th>description</th>\n",
       "      <th>userId</th>\n",
       "      <th>score</th>\n",
       "      <th>score_date</th>\n",
       "    </tr>\n",
       "  </thead>\n",
       "  <tbody>\n",
       "    <tr>\n",
       "      <th>0</th>\n",
       "      <td>as1</td>\n",
       "      <td>movie</td>\n",
       "      <td>the grand seduction</td>\n",
       "      <td>don mckellar</td>\n",
       "      <td>brendan gleeson, taylor kitsch, gordon pinsent</td>\n",
       "      <td>canada</td>\n",
       "      <td>2021-03-30</td>\n",
       "      <td>2014</td>\n",
       "      <td>g</td>\n",
       "      <td>113</td>\n",
       "      <td>min</td>\n",
       "      <td>comedy, drama</td>\n",
       "      <td>a small fishing village must procure a local d...</td>\n",
       "      <td>543</td>\n",
       "      <td>5.0</td>\n",
       "      <td>2003-07-30</td>\n",
       "    </tr>\n",
       "    <tr>\n",
       "      <th>1</th>\n",
       "      <td>as1</td>\n",
       "      <td>movie</td>\n",
       "      <td>the grand seduction</td>\n",
       "      <td>don mckellar</td>\n",
       "      <td>brendan gleeson, taylor kitsch, gordon pinsent</td>\n",
       "      <td>canada</td>\n",
       "      <td>2021-03-30</td>\n",
       "      <td>2014</td>\n",
       "      <td>g</td>\n",
       "      <td>113</td>\n",
       "      <td>min</td>\n",
       "      <td>comedy, drama</td>\n",
       "      <td>a small fishing village must procure a local d...</td>\n",
       "      <td>595</td>\n",
       "      <td>3.0</td>\n",
       "      <td>1996-08-13</td>\n",
       "    </tr>\n",
       "    <tr>\n",
       "      <th>2</th>\n",
       "      <td>as1</td>\n",
       "      <td>movie</td>\n",
       "      <td>the grand seduction</td>\n",
       "      <td>don mckellar</td>\n",
       "      <td>brendan gleeson, taylor kitsch, gordon pinsent</td>\n",
       "      <td>canada</td>\n",
       "      <td>2021-03-30</td>\n",
       "      <td>2014</td>\n",
       "      <td>g</td>\n",
       "      <td>113</td>\n",
       "      <td>min</td>\n",
       "      <td>comedy, drama</td>\n",
       "      <td>a small fishing village must procure a local d...</td>\n",
       "      <td>611</td>\n",
       "      <td>3.0</td>\n",
       "      <td>2001-01-03</td>\n",
       "    </tr>\n",
       "  </tbody>\n",
       "</table>\n",
       "</div>"
      ],
      "text/plain": [
       "    id   type                title      director  \\\n",
       "0  as1  movie  the grand seduction  don mckellar   \n",
       "1  as1  movie  the grand seduction  don mckellar   \n",
       "2  as1  movie  the grand seduction  don mckellar   \n",
       "\n",
       "                                             cast country  date_added  \\\n",
       "0  brendan gleeson, taylor kitsch, gordon pinsent  canada  2021-03-30   \n",
       "1  brendan gleeson, taylor kitsch, gordon pinsent  canada  2021-03-30   \n",
       "2  brendan gleeson, taylor kitsch, gordon pinsent  canada  2021-03-30   \n",
       "\n",
       "   release_year rating  duration_int duration_type      listed_in  \\\n",
       "0          2014      g           113           min  comedy, drama   \n",
       "1          2014      g           113           min  comedy, drama   \n",
       "2          2014      g           113           min  comedy, drama   \n",
       "\n",
       "                                         description  userId  score  \\\n",
       "0  a small fishing village must procure a local d...     543    5.0   \n",
       "1  a small fishing village must procure a local d...     595    3.0   \n",
       "2  a small fishing village must procure a local d...     611    3.0   \n",
       "\n",
       "   score_date  \n",
       "0  2003-07-30  \n",
       "1  1996-08-13  \n",
       "2  2001-01-03  "
      ]
     },
     "execution_count": 84,
     "metadata": {},
     "output_type": "execute_result"
    }
   ],
   "source": [
    "df_tit_rat_merge.head(3)"
   ]
  },
  {
   "cell_type": "code",
   "execution_count": 62,
   "metadata": {},
   "outputs": [
    {
     "data": {
      "text/html": [
       "<div>\n",
       "<style scoped>\n",
       "    .dataframe tbody tr th:only-of-type {\n",
       "        vertical-align: middle;\n",
       "    }\n",
       "\n",
       "    .dataframe tbody tr th {\n",
       "        vertical-align: top;\n",
       "    }\n",
       "\n",
       "    .dataframe thead th {\n",
       "        text-align: right;\n",
       "    }\n",
       "</style>\n",
       "<table border=\"1\" class=\"dataframe\">\n",
       "  <thead>\n",
       "    <tr style=\"text-align: right;\">\n",
       "      <th></th>\n",
       "      <th>id</th>\n",
       "      <th>type</th>\n",
       "      <th>title</th>\n",
       "      <th>director</th>\n",
       "      <th>cast</th>\n",
       "      <th>country</th>\n",
       "      <th>date_added</th>\n",
       "      <th>release_year</th>\n",
       "      <th>rating</th>\n",
       "      <th>duration_int</th>\n",
       "      <th>duration_type</th>\n",
       "      <th>listed_in</th>\n",
       "      <th>description</th>\n",
       "      <th>userId</th>\n",
       "      <th>score</th>\n",
       "      <th>score_date</th>\n",
       "    </tr>\n",
       "  </thead>\n",
       "  <tbody>\n",
       "    <tr>\n",
       "      <th>0</th>\n",
       "      <td>as1</td>\n",
       "      <td>movie</td>\n",
       "      <td>the grand seduction</td>\n",
       "      <td>don mckellar</td>\n",
       "      <td>brendan gleeson, taylor kitsch, gordon pinsent</td>\n",
       "      <td>canada</td>\n",
       "      <td>2021-03-30</td>\n",
       "      <td>2014</td>\n",
       "      <td>g</td>\n",
       "      <td>113</td>\n",
       "      <td>min</td>\n",
       "      <td>comedy, drama</td>\n",
       "      <td>a small fishing village must procure a local d...</td>\n",
       "      <td>543</td>\n",
       "      <td>5.0</td>\n",
       "      <td>2003-07-30</td>\n",
       "    </tr>\n",
       "    <tr>\n",
       "      <th>1</th>\n",
       "      <td>as1</td>\n",
       "      <td>movie</td>\n",
       "      <td>the grand seduction</td>\n",
       "      <td>don mckellar</td>\n",
       "      <td>brendan gleeson, taylor kitsch, gordon pinsent</td>\n",
       "      <td>canada</td>\n",
       "      <td>2021-03-30</td>\n",
       "      <td>2014</td>\n",
       "      <td>g</td>\n",
       "      <td>113</td>\n",
       "      <td>min</td>\n",
       "      <td>comedy, drama</td>\n",
       "      <td>a small fishing village must procure a local d...</td>\n",
       "      <td>595</td>\n",
       "      <td>3.0</td>\n",
       "      <td>1996-08-13</td>\n",
       "    </tr>\n",
       "  </tbody>\n",
       "</table>\n",
       "</div>"
      ],
      "text/plain": [
       "    id   type                title      director  \\\n",
       "0  as1  movie  the grand seduction  don mckellar   \n",
       "1  as1  movie  the grand seduction  don mckellar   \n",
       "\n",
       "                                             cast country  date_added  \\\n",
       "0  brendan gleeson, taylor kitsch, gordon pinsent  canada  2021-03-30   \n",
       "1  brendan gleeson, taylor kitsch, gordon pinsent  canada  2021-03-30   \n",
       "\n",
       "   release_year rating  duration_int duration_type      listed_in  \\\n",
       "0          2014      g           113           min  comedy, drama   \n",
       "1          2014      g           113           min  comedy, drama   \n",
       "\n",
       "                                         description  userId  score  \\\n",
       "0  a small fishing village must procure a local d...     543    5.0   \n",
       "1  a small fishing village must procure a local d...     595    3.0   \n",
       "\n",
       "   score_date  \n",
       "0  2003-07-30  \n",
       "1  1996-08-13  "
      ]
     },
     "execution_count": 62,
     "metadata": {},
     "output_type": "execute_result"
    }
   ],
   "source": [
    "dfx = df_tit_rat_merge[(df_tit_rat_merge['id'] == 'as1') & (df_tit_rat_merge['title'] == 'the grand seduction')]\n",
    "dfx.head(2)"
   ]
  },
  {
   "attachments": {},
   "cell_type": "markdown",
   "metadata": {},
   "source": [
    "Genera un archivo `csv` consolidado de plataformas, titulos y raitings."
   ]
  },
  {
   "cell_type": "code",
   "execution_count": 85,
   "metadata": {},
   "outputs": [],
   "source": [
    "df_tit_rat_merge.to_csv(r'D:\\Henry\\Repo\\PP\\datasets\\titles\\join\\platforms_titles_ratings.csv', index=False)"
   ]
  },
  {
   "attachments": {},
   "cell_type": "markdown",
   "metadata": {},
   "source": [
    "Genera un archivo `csv` consolidado de plataformas, titulos y raitings promedio. "
   ]
  },
  {
   "cell_type": "code",
   "execution_count": 86,
   "metadata": {},
   "outputs": [],
   "source": [
    "#df_tit_rat_mean = df_tit_rat_merge.groupby(['id', 'title', 'release_year']).score.mean()\n",
    "df_tit_rat_mean = (df_tit_rat_merge.groupby(['id', 'title', 'date_added', 'release_year'], dropna=False)\n",
    "                                   .agg({'score' : 'mean'}).reset_index())\n",
    "df_tit_rat_mean['score'] = df_tit_rat_mean['score'].round(decimals=1)\n",
    "\n",
    "df_tit_rat_mean.to_csv(r'D:\\Henry\\Repo\\PP\\datasets\\titles\\join\\platforms_titles_ratings_m.csv', index=False)"
   ]
  },
  {
   "cell_type": "code",
   "execution_count": 87,
   "metadata": {},
   "outputs": [
    {
     "name": "stdout",
     "output_type": "stream",
     "text": [
      "<class 'pandas.core.frame.DataFrame'>\n",
      "RangeIndex: 22998 entries, 0 to 22997\n",
      "Data columns (total 5 columns):\n",
      " #   Column        Non-Null Count  Dtype  \n",
      "---  ------        --------------  -----  \n",
      " 0   id            22998 non-null  string \n",
      " 1   title         22998 non-null  string \n",
      " 2   date_added    13444 non-null  string \n",
      " 3   release_year  22998 non-null  int64  \n",
      " 4   score         22998 non-null  float64\n",
      "dtypes: float64(1), int64(1), string(3)\n",
      "memory usage: 898.5 KB\n"
     ]
    }
   ],
   "source": [
    "df_tit_rat_mean.info()"
   ]
  },
  {
   "attachments": {},
   "cell_type": "markdown",
   "metadata": {},
   "source": [
    "Función que obtiene el número de títulos por plataforma."
   ]
  },
  {
   "cell_type": "code",
   "execution_count": 152,
   "metadata": {},
   "outputs": [],
   "source": [
    "def get_count_platform(platform):\n",
    "    \"\"\"\n",
    "    Obtiene el número de títulos por plataforma.\n",
    "    \n",
    "    Parameters\n",
    "    ----------\n",
    "    platform : string\n",
    "        Identificador de la plataforma de streaming.\n",
    "    \n",
    "    Returns\n",
    "    -------\n",
    "    int\n",
    "        Número de títulos de la plataforma {'ama','dis','hel','net'}.\n",
    "    \"\"\"\n",
    "    if platform == 'ama':\n",
    "        p_id = 'as'\n",
    "    elif platform == 'dis':\n",
    "        p_id = 'ds'\n",
    "    elif platform == 'hul':\n",
    "        p_id = 'hs'\n",
    "    else:\n",
    "        p_id = 'ns'\n",
    "    #df_plat = pd.read_csv('https://docs.google.com/spreadsheets/d/e/2PACX-1vTStV5K8QAKcxAEZsq8xLQiwZPK0X4gBxLLrpNQFhmjsXFgiRcDUWu3OtMapHOr3KcnomiM1hHV3NCD/pub?output=csv')\n",
    "    df_plat = pd.read_csv(r'D:\\Henry\\Repo\\PP\\datasets\\titles\\join\\platforms_titles.csv')\n",
    "        \n",
    "    df_plat = df_plat.loc[df_plat['id'].str.contains(p_id)]\n",
    "\n",
    "    return(len(df_plat))"
   ]
  },
  {
   "cell_type": "code",
   "execution_count": 153,
   "metadata": {},
   "outputs": [
    {
     "name": "stdout",
     "output_type": "stream",
     "text": [
      "Cantidad de títulos:  9668\n"
     ]
    }
   ],
   "source": [
    "print(f'Cantidad de títulos: ', get_count_platform('ama'))"
   ]
  },
  {
   "attachments": {},
   "cell_type": "markdown",
   "metadata": {},
   "source": [
    "Función que obtiene el título de mayor duración de acuerdo a la plataforma, tipo y año."
   ]
  },
  {
   "cell_type": "code",
   "execution_count": 108,
   "metadata": {},
   "outputs": [],
   "source": [
    "def get_max_duration (platform, duration_type, year):\n",
    "    \"\"\"\n",
    "    Obtiene el título de mayor duración de acuerdo a la plataforma, tipo y año.\n",
    "    \n",
    "    Parameters\n",
    "    ----------\n",
    "    platform : string\n",
    "        Identificador de la plataforma de streaming {'ama','dis','hul','net'}.\n",
    "    duration_type : string\n",
    "        tipo de duración, {'min', 'season}.\n",
    "    year : int\n",
    "        Año de lanzamiento.\n",
    "    \n",
    "    Returns\n",
    "    -------\n",
    "    str\n",
    "        Nombre de la película/serie de mayor duración.\n",
    "    \"\"\"\n",
    "    if platform == 'ama':\n",
    "        p_id = 'as'\n",
    "    elif platform == 'dis':\n",
    "        p_id = 'ds'\n",
    "    elif platform == 'hul':\n",
    "        p_id = 'hs'\n",
    "    else:\n",
    "        p_id = 'ns'\n",
    "    df_plat = pd.read_csv(r'D:\\Henry\\Repo\\PP\\datasets\\titles\\join\\platforms_titles.csv')\n",
    "    df_plat = df_plat.loc[(df_plat['id'].str.contains(p_id)) & \n",
    "                          (df_plat['release_year'] == year)  &\n",
    "                          (df_plat['duration_type'] == duration_type)]\n",
    "    if len(df_plat) == 0:\n",
    "        return('No hay títulos para la plataforma-tipo-año solicitados')\n",
    "    \n",
    "    max_dur = df_plat['duration_int'].max()\n",
    "    df_tit = df_plat.loc[df_plat['duration_int'] == max_dur]\n",
    "    title = str(df_tit['title'].values[0])\n",
    "    \n",
    "    return(title)"
   ]
  },
  {
   "cell_type": "code",
   "execution_count": 150,
   "metadata": {},
   "outputs": [
    {
     "name": "stdout",
     "output_type": "stream",
     "text": [
      "Título de mayor duración:  diff'rent strokes\n"
     ]
    }
   ],
   "source": [
    "print(f'Título de mayor duración: ', get_max_duration('ama', 'seasons', 1986))"
   ]
  },
  {
   "attachments": {},
   "cell_type": "markdown",
   "metadata": {},
   "source": [
    "Función que obtiene la cantidad de títulos por plataforma con un puntaje mayor a XX en determinado año. "
   ]
  },
  {
   "cell_type": "code",
   "execution_count": 117,
   "metadata": {},
   "outputs": [],
   "source": [
    "def get_score_count(platform, year, scored):\n",
    "    \"\"\"\n",
    "    Obtiene la cantidad de títulos por plataforma con un puntaje mayor a XX en determinado año.\n",
    "    \n",
    "    Parameters\n",
    "    ----------\n",
    "    platform : string\n",
    "        Identificador de la plataforma de streaming {'ama','dis','hul','net'}.\n",
    "    year : int\n",
    "        Año de lanzamiento.\n",
    "    scored : float\n",
    "        puntaje registrado.\n",
    "\n",
    "    Returns\n",
    "    -------\n",
    "    int\n",
    "        Número de títulos.\n",
    "    \"\"\"\n",
    "    if platform == 'ama':\n",
    "        p_id = 'as'\n",
    "    elif platform == 'dis':\n",
    "        p_id = 'ds'\n",
    "    elif platform == 'hul':\n",
    "        p_id = 'hs'\n",
    "    else:\n",
    "        p_id = 'ns'\n",
    "    df_plat = pd.read_csv(r'D:\\Henry\\Repo\\PP\\datasets\\titles\\join\\platforms_titles_ratings_m.csv')\n",
    "    df_plat = df_plat[(df_plat['id'].str.contains(p_id)) & \n",
    "                      (df_plat['release_year'] == year)  & \n",
    "                      (df_plat['score'] > scored)]\n",
    "    \n",
    "    return(len(df_plat))"
   ]
  },
  {
   "cell_type": "code",
   "execution_count": 142,
   "metadata": {},
   "outputs": [
    {
     "name": "stdout",
     "output_type": "stream",
     "text": [
      "Cantidad de títulos:  1\n"
     ]
    }
   ],
   "source": [
    "print(f'Cantidad de títulos: ', get_score_count('ama', 1920, 3.5))"
   ]
  },
  {
   "attachments": {},
   "cell_type": "markdown",
   "metadata": {},
   "source": [
    "Función que obtiene el actor que más se repite por plataforma y año."
   ]
  },
  {
   "cell_type": "code",
   "execution_count": 137,
   "metadata": {},
   "outputs": [],
   "source": [
    "def get_actor(platform, year):\n",
    "    \"\"\"\n",
    "    Obtiene el actor que más se repite por plataforma y año.\n",
    "    \n",
    "    Parameters\n",
    "    ----------\n",
    "    platform : string\n",
    "        Identificador de la plataforma de streaming {'ama','dis','hul','net'}.\n",
    "    year : int\n",
    "        Año de lanzamiento.\n",
    "\n",
    "    Returns\n",
    "    -------\n",
    "    string\n",
    "        Actor que más se repite.\n",
    "    \"\"\"\n",
    "    if platform == 'ama':\n",
    "        p_id = 'as'\n",
    "    elif platform == 'dis':\n",
    "        p_id = 'ds'\n",
    "    elif platform == 'hul':\n",
    "        p_id = 'hs'\n",
    "    else:\n",
    "        p_id = 'ns'\n",
    "    df_plat = pd.read_csv(r'D:\\Henry\\Repo\\PP\\datasets\\titles\\join\\platforms_titles.csv')\n",
    "    df_plat = df_plat[(df_plat['id'].str.contains(p_id)) & \n",
    "                      (df_plat['release_year'] == year)]\n",
    "    if len(df_plat) == 0:\n",
    "        return('No hay títulos para la plataforma-año solicitados')\n",
    "    \n",
    "    df_cast = df_plat['cast']\n",
    "    actors = []\n",
    "    for i in range(0, len(df_cast)):\n",
    "        cast_tit = df_cast.iloc[i].split(',')\n",
    "        for j in range(0, len(cast_tit)):\n",
    "            actors.append(cast_tit[j].strip())\n",
    "            \n",
    "    return(mode(actors))"
   ]
  },
  {
   "cell_type": "code",
   "execution_count": 158,
   "metadata": {},
   "outputs": [
    {
     "name": "stdout",
     "output_type": "stream",
     "text": [
      "Actor más repetido:  luis brandoni\n"
     ]
    }
   ],
   "source": [
    "print(f'Actor más repetido: ', get_actor('net' , 1985))"
   ]
  }
 ],
 "metadata": {
  "kernelspec": {
   "display_name": "base",
   "language": "python",
   "name": "python3"
  },
  "language_info": {
   "codemirror_mode": {
    "name": "ipython",
    "version": 3
   },
   "file_extension": ".py",
   "mimetype": "text/x-python",
   "name": "python",
   "nbconvert_exporter": "python",
   "pygments_lexer": "ipython3",
   "version": "3.9.13"
  },
  "orig_nbformat": 4,
  "vscode": {
   "interpreter": {
    "hash": "ad2bdc8ecc057115af97d19610ffacc2b4e99fae6737bb82f5d7fb13d2f2c186"
   }
  }
 },
 "nbformat": 4,
 "nbformat_minor": 2
}
